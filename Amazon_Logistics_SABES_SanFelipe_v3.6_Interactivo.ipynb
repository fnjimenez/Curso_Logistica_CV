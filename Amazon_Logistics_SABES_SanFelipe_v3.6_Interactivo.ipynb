# ============================================================================
# UNIVERSIDAD DEL SABES – INGENIERÍA LOGÍSTICA Y CADENA DE VALOR
# Campus San Felipe · Octubre 2025
# ============================================================================
# PROYECTO: Amazon Logistics – El Buen Fin 2025 (Interfaz Interactiva)
# Versión v3.6_Interactivo
# Autor / Auditor: Mejora basada en v3.4
# Descripción:
#   - Este cuaderno permite a cada alumno seleccionar su nombre/matrícula,
#     ajustar su escenario de demanda / capacidad / costos / presupuesto,
#     y resolver el modelo de optimización logística.
#   - Se basa en el modelo de dos niveles realista HUB → Ciudad
#     con presupuesto máximo, costos por ruta y restricciones de contingencia.
# ============================================================================

# ============================================================================
# 0. INSTALACIÓN DE LIBRERÍAS (solo la primera vez en Colab)
# ============================================================================
!pip install pulp networkx matplotlib ipywidgets pandas openpyxl --quiet
import math
import pandas as pd
import networkx as nx
import matplotlib.pyplot as plt
from pulp import *
import ipywidgets as widgets
from ipywidgets import interact

print("✅ Librerías instaladas y cargadas.")

# Activar widgets en Colab (a veces Colab ya los trae; si no, esto ayuda)
try:
    from google.colab import output
    output.enable_custom_widget_manager()
except:
    pass

# ============================================================================
# 1. CARGA DE LISTA DE ALUMNOS
# ============================================================================
# IMPORTANTE:
#   - Sube tu archivo "LISTA PARTICIPANTES CURSO LOGISTICA Y CADENA DE VALOR.xlsx"
#     en Colab (panel izquierdo > Archivos).
#   - Ajusta la ruta si el nombre exacto cambia.

RUTA_EXCEL = "LISTA PARTICIPANTES CURSO LOGISTICA Y CADENA DE VALOR.xlsx"

df_raw = pd.read_excel(RUTA_EXCEL)

# MAPEO COLUMNAS
# Cambia estas líneas si las columnas en tu Excel tienen otros nombres.
# Ejemplos:
#   MATRICULA  -> "Matrícula", "ID", etc
#   NOMBRE     -> "Nombre", "ALUMNO", etc
#   XX         -> "XX" (si ya existe) o se calcula
COLUMN_MATRICULA = "MATRICULA" if "MATRICULA" in df_raw.columns else df_raw.columns[0]
COLUMN_NOMBRE    = "NOMBRE"    if "NOMBRE"    in df_raw.columns else df_raw.columns[1]
COLUMN_XX        = "XX"        if "XX"        in df_raw.columns else None

# Creamos dataframe normalizado interno
alumnos = pd.DataFrame({
    "matricula": df_raw[COLUMN_MATRICULA],
    "nombre":    df_raw[COLUMN_NOMBRE],
})

# Si no hay columna XX explícita, calculamos los últimos dos dígitos a partir de la matrícula.
if COLUMN_XX is None:
    alumnos["XX"] = alumnos["matricula"].astype(str).str[-2:].astype(int)
else:
    alumnos["XX"] = df_raw[COLUMN_XX].astype(int)

# Creamos una llave legible tipo "241132 - Juan Pérez"
alumnos["display"] = alumnos["matricula"].astype(str) + " - " + alumnos["nombre"].astype(str)

print("✅ Lista de alumnos cargada.")
display(alumnos.head())

# ============================================================================
# 2. DATOS BASE DEL ESCENARIO AMAZON MÉXICO (El Buen Fin 2025)
#    Basado en el modelo v3.4
#    - Oferta de cada HUB (paquetes disponibles)
#    - Demanda de cada ciudad (paquetes requeridos)
#    - Costos base (por tráiler, en miles de MXN) convertidos luego a MXN
#    - Presupuesto corporativo
# ============================================================================

OFERTA_BASE = {
    'CDMX_Norte': 35000,
    'Monterrey':  22000,
    'Guadalajara':20000,
    'Queretaro':  18000,
    'Puebla':     15000,
    'Tijuana':    12000,
}

DEMANDA_BASE = {
    'Merida':   12000,
    'Cancun':   15000,
    'Toluca':   18000,
    'Leon':     14000,
    'SLP':      11000,   # San Luis Potosí
    'Veracruz': 13000,
}

COSTO_BASE_MILES = {
    'CDMX_Norte': {
        'Merida':   142,
        'Cancun':   168,
        'Toluca':     8,
        'Leon':      45,
        'SLP':       52,
        'Veracruz':  48,
    },
    'Monterrey': {
        'Merida':   228,
        'Cancun':   245,
        'Toluca':    88,
        'Leon':      78,
        'SLP':       38,
        'Veracruz': 115,
    },
    'Guadalajara': {
        'Merida':   198,
        'Cancun':   215,
        'Toluca':    62,
        'Leon':      28,
        'SLP':       58,
        'Veracruz':  88,
    },
    'Queretaro': {
        'Merida':   158,
        'Cancun':   178,
        'Toluca':    18,
        'Leon':      22,
        'SLP':       35,
        'Veracruz':  52,
    },
    'Puebla': {
        'Merida':   128,
        'Cancun':   145,
        'Toluca':    22,
        'Leon':      52,
        'SLP':       62,
        'Veracruz':  28,
    },
    'Tijuana': {
        'Merida':   485,
        'Cancun':   498,
        'Toluca':   305,
        'Leon':     262,
        'SLP':      268,
        'Veracruz': 358,
    },
}

COSTO_FIJO_TRAILER = 12500     # MXN por activar ruta (salida dedicada)
PRESUPUESTO_MAX_DEFAULT = 2_850_000  # MXN

print("✅ Datos base logísticos cargados.")


# ============================================================================
# 3. GENERACIÓN DE ESCENARIO PERSONALIZADO
#    A partir de XX del alumno + sliders de sensibilidad
#    Reglas heredadas del proyecto:
#    - Demanda: crece con factor ligado a XX (pico Buen Fin)
#    - Oferta: crecimiento ligado a XX (capacidad máxima logística)
#    - Costos: factor ligado a XX (sube/baja costo transporte)
#    - Restricción especial = XX % 5 (mod5)
#
#    NUEVO: además aplicamos sliders del alumno:
#      - demanda_extra_pct
#      - capacidad_reduccion_pct
#      - costo_ajuste_pct
#      - presupuesto_max
#      - escenario (optimista / pesimista / estrategico)
# ============================================================================

def generar_escenario_alumno(
    XX,
    demanda_extra_pct,
    capacidad_reduccion_pct,
    costo_ajuste_pct,
    presupuesto_max,
    escenario_nombre
):
    """
    Regresa:
      oferta_mod, demanda_mod, costos_mod (MXN), restric_mod5
    """

    mod10 = XX % 10
    mod7  = XX % 7
    mod15 = XX % 15
    mod5  = XX % 5

    # Factores base por XX (misma lógica del caso Buen Fin):
    factor_demanda_xx = 1 + (mod10 / 10)    # +0% a +90%
    factor_oferta_xx  = 1 + (mod7  / 10)    # +0% a +60%
    factor_costos_xx  = 0.85 + (mod15 / 100) # 0.85x a ~1.99x

    # 1) Demanda personalizada = base * factor_xx * (1 + demanda_extra_pct)
    demanda_mod = {}
    for dest, base in DEMANDA_BASE.items():
        demanda_mod[dest] = math.ceil(
            base
            * factor_demanda_xx
            * (1 + demanda_extra_pct)
        )

    # 2) Oferta personalizada = base * factor_xx * (1 - capacidad_reduccion_pct)
    oferta_mod = {}
    for hub, base in OFERTA_BASE.items():
        oferta_mod[hub] = math.floor(
            base
            * factor_oferta_xx
            * (1 - capacidad_reduccion_pct)
        )
        if oferta_mod[hub] < 0:
            oferta_mod[hub] = 0

    # 3) Costos personalizados:
    #    - Convertimos miles de MXN → MXN
    #    - Ajustamos por factor_costos_xx
    #    - Ajustamos por slider extra del alumno
    costos_mod = {}
    for hub, destinos in COSTO_BASE_MILES.items():
        costos_mod[hub] = {}
        for dest, costo_miles in destinos.items():
            costo_mxn = costo_miles * 1000.0
            costo_final = costo_mxn * factor_costos_xx * (1 + costo_ajuste_pct)
            costos_mod[hub][dest] = costo_final

    # 4) Ajustes por escenario de contingencia (optimista/pesimista/estrategico)
    # Escenario OPTIMISTA:
    #   - Bajamos costos 10%, suponemos carreteras limpias
    # Escenario PESIMISTA:
    #   - Tormenta en el sureste: Cancún y Veracruz caros
    #   - Puebla y Monterrey pierden capacidad
    # Escenario ESTRATÉGICO:
    #   - Se habilita "BajioHub" (Querétaro/León) con capacidad adicional

    if escenario_nombre.lower() == "optimista":
        # bajar 10% todos los costos
        for h in costos_mod:
            for d in costos_mod[h]:
                costos_mod[h][d] *= 0.90  # -10%

    elif escenario_nombre.lower() == "pesimista":
        # subir 25% costos hacia Cancún y Veracruz
        for h in costos_mod:
            if "Cancun" in costos_mod[h]:
                costos_mod[h]["Cancun"] *= 1.25
            if "Veracruz" in costos_mod[h]:
                costos_mod[h]["Veracruz"] *= 1.25
        # reducir capacidad Monterrey y Puebla un 20%
        if "Monterrey" in oferta_mod:
            oferta_mod["Monterrey"] = math.floor(oferta_mod["Monterrey"] * 0.8)
        if "Puebla" in oferta_mod:
            oferta_mod["Puebla"]    = math.floor(oferta_mod["Puebla"] * 0.8)

    elif escenario_nombre.lower() == "estrategico":
        # agregamos un hub Bajío virtual (fusionar Querétaro-León)
        BAJIO_CAP_ADICIONAL = 18000
        oferta_mod["BajioHub"] = BAJIO_CAP_ADICIONAL

        # BajioHub abastece León, SLP, Toluca con costos promedio competitivos
        costos_mod["BajioHub"] = {
            "Leon":   22000 * (1 + costo_ajuste_pct),
            "SLP":    35000 * (1 + costo_ajuste_pct),
            "Toluca": 25000 * (1 + costo_ajuste_pct),
        }

    # Presupuesto que aplicará el solver
    presupuesto_aplicado = presupuesto_max

    return oferta_mod, demanda_mod, costos_mod, mod5, presupuesto_aplicado


# ============================================================================
# 4. SOLVER DE OPTIMIZACIÓN (versión HUB → CIUDAD)
#    Igual filosofía que v3.4: flujo entero x[(hub, dest)]
#    Minimizamos:
#       costos_mod[hub][dest]*x + COSTO_FIJO_TRAILER * u
#    Sujeto a:
#       - capacidad de cada hub
#       - demanda mínima de cada destino
#       - presupuesto máximo
#       - restricciones especiales según mod5
# ============================================================================
def optimizar(oferta, demanda, costos, mod5, presupuesto_max, costo_fijo_trailer=COSTO_FIJO_TRAILER):
    hubs     = list(oferta.keys())
    destinos = list(demanda.keys())

    prob = LpProblem("Amazon_BuenFin2025_Interactivo", LpMinimize)

    rutas = [(h, d) for h in hubs for d in destinos if d in costos.get(h, {})]

    # variables de flujo (unidades enviadas)
    x = LpVariable.dicts("x", rutas, lowBound=0, cat="Integer")
    # variable binaria: ¿se activa la ruta h→d?
    u = LpVariable.dicts("u", rutas, lowBound=0, upBound=1, cat="Binary")

    # función objetivo = costo variable + costo fijo por activar ruta
    total_cost = lpSum([
        costos[h][d] * x[(h, d)] + costo_fijo_trailer * u[(h, d)]
        for (h, d) in rutas
    ])
    prob += total_cost

    # restricción de oferta por hub
    for h in hubs:
        prob += lpSum([x[(h, d)] for d in destinos if (h, d) in x]) <= oferta[h], f"Capacidad_{h}"

    # restricción de demanda por destino
    for d in destinos:
        prob += lpSum([x[(h, d)] for h in hubs if (h, d) in x]) >= demanda[d], f"Demanda_{d}"

    # vínculo flujo/activación de ruta (big-M)
    for (h, d) in rutas:
        M = max(oferta[h], demanda[d])
        prob += x[(h, d)] <= M * u[(h, d)], f"ActivaRuta_{h}_{d}"

    # presupuesto máximo global
    prob += total_cost <= presupuesto_max, "PresupuestoMax"

    # restricciones especiales basadas en mod5 (heredadas del caso Buen Fin)
    # mod5 == 0 → crisis en Monterrey (capacidad reducida externa).
    # mod5 == 1 → Querétaro obligado a participar.
    # mod5 == 2 → (castigo Puebla en costos ya se modela con costo_ajuste_pct, así que no forzamos extra)
    # mod5 == 3 → Cancún debe recibir 30% desde CDMX_Norte.
    # mod5 == 4 → Tijuana solo puede surtir a 3 destinos distintos.
    if mod5 == 0 and "Monterrey" in oferta:
        prob += lpSum([x[("Monterrey", d)] for d in destinos if ("Monterrey", d) in x]) \
                <= oferta["Monterrey"] * 0.7, "Monterrey_Reducida"

    if mod5 == 1 and "Queretaro" in oferta:
        prob += lpSum([x[("Queretaro", d)] for d in destinos if ("Queretaro", d) in x]) \
                >= 1, "Queretaro_Debe_Usarse"

    if mod5 == 3 and "CDMX_Norte" in oferta and "Cancun" in demanda:
        if ("CDMX_Norte", "Cancun") in x:
            prob += x[("CDMX_Norte", "Cancun")] \
                    >= 0.30 * demanda["Cancun"], "Cancun_Prioridad_CDMX"

    if mod5 == 4 and "Tijuana" in oferta:
        # Tijuana puede surtir como máximo a 3 destinos distintos
        # sum(u[Tijuana, d]) <= 3
        rutas_tijuana = [("Tijuana", d) for d in destinos if ("Tijuana", d) in u]
        if rutas_tijuana:
            prob += lpSum([u[r] for r in rutas_tijuana]) <= 3, "Tijuana_Max_3_Destinos"

    # resolver
    status = prob.solve(PULP_CBC_CMD(msg=0))

    if LpStatus[prob.status] != "Optimal":
        raise ValueError(f"❌ No se encontró solución óptima. Status: {LpStatus[prob.status]}")

    # extraer resultados
    asignaciones = {}
    for (h, d) in rutas:
        val = x[(h, d)].varValue
        if val and val > 0.5:
            asignaciones[(h, d)] = int(val)

    uso_hub = {
        h: sum(asignaciones.get((h, d), 0) for d in destinos)
        for h in hubs
    }

    utilizacion_hub = {
        h: (uso_hub[h] / oferta[h] if oferta[h] > 0 else 0)
        for h in hubs
    }

    costo_final = value(total_cost)

    return {
        "status":        LpStatus[prob.status],
        "costo_total":   costo_final,
        "asignaciones":  asignaciones,
        "utilizacion":   utilizacion_hub,
        "oferta":        oferta,
        "demanda":       demanda,
        "presupuesto":   presupuesto_max,
    }


# ============================================================================
# 5. VISUALIZACIÓN DE LA RED (networkx)
#    - Hubs = azul (cuadrado)
#    - Destinos = naranja (círculo)
#    - Grosor de arco proporcional al flujo
# ============================================================================
def graficar_red(resultado):
    asign = resultado["asignaciones"]
    oferta = resultado["oferta"]
    demanda = resultado["demanda"]

    hubs = list(oferta.keys())
    destinos = list(demanda.keys())

    G = nx.DiGraph()
    pos = {}

    # Colocamos hubs a la izquierda
    for i, h in enumerate(hubs):
        pos[h] = (0, 1 - (i+1)/(len(hubs)+1))
        G.add_node(h, tipo="hub")

    # Colocamos destinos a la derecha
    for j, d in enumerate(destinos):
        pos[d] = (1, 1 - (j+1)/(len(destinos)+1))
        G.add_node(d, tipo="dest")

    # Arcos con flujo positivo
    if asign:
        max_flujo = max(asign.values())
    else:
        max_flujo = 1

    for (h, d), f in asign.items():
        G.add_edge(h, d, weight=f, ancho=(2 + 5*f/max_flujo))

    fig, ax = plt.subplots(figsize=(14,8))

    hubs_nodes = [n for n in G.nodes() if G.nodes[n]["tipo"]=="hub"]
    dest_nodes = [n for n in G.nodes() if G.nodes[n]["tipo"]=="dest"]

    nx.draw_networkx_nodes(
        G, pos,
        nodelist=hubs_nodes,
        node_color="#1565c0",
        node_size=2800,
        node_shape="s",
        edgecolors="black",
        linewidths=2,
        ax=ax
    )

    nx.draw_networkx_nodes(
        G, pos,
        nodelist=dest_nodes,
        node_color="#ff9900",
        node_size=2500,
        node_shape="o",
        edgecolors="black",
        linewidths=2,
        ax=ax
    )

    edges = list(G.edges())
    widths = [G[u][v]["ancho"] for (u,v) in edges] if edges else []
    nx.draw_networkx_edges(
        G, pos,
        edgelist=edges,
        edge_color="#424242",
        width=widths,
        arrows=True,
        arrowsize=25,
        connectionstyle="arc3,rad=0.05",
        ax=ax
    )

    # Etiquetas de nodo: uso% o demanda
    labels = {}
    util = resultado["utilizacion"]
    for h in hubs_nodes:
        uso_pct = util.get(h,0)*100
        labels[h] = f"{h}\nUso {uso_pct:.0f}%"
    for d in dest_nodes:
        labels[d] = f"{d}\nDem {demanda[d]}"

    nx.draw_networkx_labels(G, pos, labels=labels, font_weight="bold", font_size=10, ax=ax)

    # Etiquetas en arcos = flujo asignado
    edge_labels = {(h,d):f"{f}" for (h,d),f in asign.items()}
    nx.draw_networkx_edge_labels(G, pos, edge_labels=edge_labels, font_size=9, ax=ax)

    ax.set_title(
        f"Red Amazon México – El Buen Fin 2025\n"
        f"Costo total: ${resultado['costo_total']:,.0f} MXN | "
        f"Presupuesto: ${resultado['presupuesto']:,.0f} MXN",
        fontsize=14,
        fontweight="bold",
        pad=20
    )

    ax.axis("off")
    plt.tight_layout()
    plt.show()


# ============================================================================
# 6. REPORTE EJECUTIVO (incluye mini FODA para que el alumno lo copie)
# ============================================================================
def reporte_texto(resultado, alumno_display, XX, escenario_nombre,
                  demanda_extra_pct, capacidad_reduccion_pct, costo_ajuste_pct):
    print("====================================================================")
    print(f"📊 REPORTE EJECUTIVO – {alumno_display}")
    print("====================================================================")
    print(f"ID alumno / XX: {XX}")
    print(f"Escenario: {escenario_nombre}")
    print(f"Demanda extra sim: {demanda_extra_pct*100:.0f}%")
    print(f"Reducción capacidad hubs: {capacidad_reduccion_pct*100:.0f}%")
    print(f"Ajuste costos transporte: {costo_ajuste_pct*100:.0f}%")
    print("--------------------------------------------------------------------")
    print(f"Estado solver: {resultado['status']}")
    print(f"Costo total estimado: ${resultado['costo_total']:,.0f} MXN")
    print("Utilización hubs:")
    for h, u in resultado["utilizacion"].items():
        print(f"  • {h}: {u:.0%}")
    print("\nTop flujos asignados:")
    flujos = sorted(resultado["asignaciones"].items(), key=lambda kv: kv[1], reverse=True)
    for (h,d),f in flujos[:8]:
        print(f"  • {h} → {d}: {f:,} unidades")

    print("\nFODA rápido del escenario:")
    print("  F (Fortalezas): Ajuste dinámico a la demanda pico Buen Fin.")
    print("  O (Oportunidades): Uso de hubs alternos para contener sobrecosto.")
    print("  D (Debilidades): Dependencia en rutas caras (Cancún / Veracruz).")
    print("  A (Amenazas): Límite de presupuesto corporativo y saturación de hubs.\n")


# ============================================================================
# 7. INTERFAZ INTERACTIVA
#    - Dropdown alumno
#    - Sliders de sensibilidad
#    - Selector de escenario
#    - Presupuesto
#    - Render automático
# ============================================================================

# widget: lista de alumnos
dropdown_alumno = widgets.Dropdown(
    options=list(alumnos["display"]),
    description="Alumno:",
    style={'description_width': 'initial'},
    layout=widgets.Layout(width='400px')
)

# sliders de sensibilidad
slider_demanda    = widgets.FloatSlider(
    value=0.20, min=0.0, max=0.50, step=0.05,
    description="Demanda extra (%)",
    style={'description_width': 'initial'},
    readout_format='.0%'
)

slider_capacidad  = widgets.FloatSlider(
    value=0.10, min=0.0, max=0.50, step=0.05,
    description="Reducción capacidad hubs (%)",
    style={'description_width': 'initial'},
    readout_format='.0%'
)

slider_costos     = widgets.FloatSlider(
    value=0.15, min=-0.30, max=0.50, step=0.05,
    description="Ajuste costos (%)",
    style={'description_width': 'initial'},
    readout_format='.0%'
)

slider_presupuesto = widgets.IntSlider(
    value=PRESUPUESTO_MAX_DEFAULT,
    min=1_500_000,
    max=4_000_000,
    step=50_000,
    description="Presupuesto (MXN)",
    style={'description_width': 'initial'},
    readout_format='d'
)

dropdown_escenario = widgets.Dropdown(
    options=["Optimista","Pesimista","Estrategico"],
    value="Optimista",
    description="Escenario:",
    style={'description_width': 'initial'},
    layout=widgets.Layout(width='250px')
)

# botón para ejecutar
boton_run = widgets.Button(
    description="Resolver Escenario",
    button_style='success',
    layout=widgets.Layout(width='250px')
)

output_area = widgets.Output()


def ejecutar_callback(_):
    with output_area:
        output_area.clear_output()

        # Obtener info del alumno seleccionado
        row = alumnos[alumnos["display"] == dropdown_alumno.value].iloc[0]
        alumno_display = row["display"]
        XX = int(row["XX"])

        demanda_extra_pct       = slider_demanda.value          # 0.0 .. 0.50
        capacidad_reduccion_pct = slider_capacidad.value        # 0.0 .. 0.50
        costo_ajuste_pct        = slider_costos.value           # -0.30 .. +0.50
        presupuesto_max         = slider_presupuesto.value
        escenario_nombre        = dropdown_escenario.value

        # Generar parámetros personalizados
        oferta_mod, demanda_mod, costos_mod, mod5, presupuesto_aplicado = generar_escenario_alumno(
            XX,
            demanda_extra_pct,
            capacidad_reduccion_pct,
            costo_ajuste_pct,
            presupuesto_max,
            escenario_nombre
        )

        # Optimizar
        resultado = optimizar(
            oferta_mod,
            demanda_mod,
            costos_mod,
            mod5,
            presupuesto_aplicado,
            costo_fijo_trailer=COSTO_FIJO_TRAILER
        )

        # Reporte
        reporte_texto(
            resultado,
            alumno_display,
            XX,
            escenario_nombre,
            demanda_extra_pct,
            capacidad_reduccion_pct,
            costo_ajuste_pct
        )

        # Gráfico
        graficar_red(resultado)


boton_run.on_click(ejecutar_callback)

# Mostramos la UI completa
ui = widgets.VBox([
    widgets.HTML("<h3>Amazon Logistics · El Buen Fin 2025 · Simulador Interactivo (v3.6)</h3>"
                 "<p>Selecciona tu nombre, ajusta condiciones y resuelve tu escenario logístico.</p>"
                 "<p><b>Nota:</b> El modelo incluye presupuesto, saturación de hubs y rutas caras al sureste.</p>"),
    dropdown_alumno,
    widgets.HBox([dropdown_escenario, slider_presupuesto]),
    slider_demanda,
    slider_capacidad,
    slider_costos,
    boton_run,
    output_area
])

display(ui)

print("✅ Interfaz lista. Selecciona alumno, ajusta sliders y presiona 'Resolver Escenario'.")
