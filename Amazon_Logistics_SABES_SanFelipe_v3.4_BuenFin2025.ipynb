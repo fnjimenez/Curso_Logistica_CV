# ============================================================================
# UNIVERSIDAD DEL SABES – INGENIERÍA LOGÍSTICA Y CADENA DE VALOR
# Campus San Felipe · Octubre 2025
# ============================================================================
# PROYECTO: Amazon Logistics – Optimización Multinivel “El Buen Fin 2025”
# Versión v3.4 _BuenFin2025_
# Autor / Auditor: Mejora basada en versión v3.3 (SABES)
# Descripción: Modelo de red de dos niveles (HUB → Ciudad) para Amazon México.
# ============================================================================

# ============================================================================
# 1. LIBRERÍAS Y CONFIGURACIÓN INICIAL
# ============================================================================
!pip install pulp networkx matplotlib --quiet
import math, networkx as nx, matplotlib.pyplot as plt
from pulp import *
print("✅ Librerías cargadas correctamente.")

# ============================================================================
# 2. PARÁMETROS BASE – ESCENARIO “EL BUEN FIN 2025”
# ============================================================================
OFERTA_BASE={
 'CDMX_Norte':35000,'Monterrey':22000,'Guadalajara':20000,
 'Queretaro':18000,'Puebla':15000,'Tijuana':12000}
DEMANDA_BASE={
 'Merida':12000,'Cancun':15000,'Toluca':18000,
 'Leon':14000,'SLP':11000,'Veracruz':13000}
COSTO_BASE_MILES={
 'CDMX_Norte':{'Merida':142,'Cancun':168,'Toluca':8,'Leon':45,'SLP':52,'Veracruz':48},
 'Monterrey':{'Merida':228,'Cancun':245,'Toluca':88,'Leon':78,'SLP':38,'Veracruz':115},
 'Guadalajara':{'Merida':198,'Cancun':215,'Toluca':62,'Leon':28,'SLP':58,'Veracruz':88},
 'Queretaro':{'Merida':158,'Cancun':178,'Toluca':18,'Leon':22,'SLP':35,'Veracruz':52},
 'Puebla':{'Merida':128,'Cancun':145,'Toluca':22,'Leon':52,'SLP':62,'Veracruz':28},
 'Tijuana':{'Merida':485,'Cancun':498,'Toluca':305,'Leon':262,'SLP':268,'Veracruz':358}}
COSTO_FIJO_TRAILER=12500
PRESUPUESTO_MAX=2_850_000
print("✅ Datos base definidos.")

# ============================================================================
# 3. FUNCIÓN PARA GENERAR ESCENARIO PERSONALIZADO POR MATRÍCULA
# ============================================================================
def generar_escenario(XX,oferta_base,demanda_base,costo_base_miles):
    mod10,mod7,mod15,mod5=XX%10,XX%7,XX%15,XX%5
    fd,fo,fc=1+mod10/10,1+mod7/10,0.85+mod15/100
    demanda={d:math.ceil(v*fd) for d,v in demanda_base.items()}
    oferta={h:math.ceil(v*fo) for h,v in oferta_base.items()}
    costos={h:{d:c*1000*fc for d,c in ds.items()} for h,ds in costo_base_miles.items()}
    return oferta,demanda,costos,mod5
print("✅ Generador de escenario listo.")

# ============================================================================
# 4. SOLVER DE OPTIMIZACIÓN HUB → CIUDAD
# ============================================================================
def optimizar(oferta,demanda,costos,mod5):
    hubs,destinos=list(oferta),list(demanda)
    prob=LpProblem("Amazon_BuenFin2025",LpMinimize)
    rutas=[(h,d) for h in hubs for d in destinos]
    x=LpVariable.dicts("x",rutas,0,cat="Integer")
    u=LpVariable.dicts("u",rutas,cat="Binary")
    cost=lpSum([costos[h][d]*x[(h,d)]+COSTO_FIJO_TRAILER*u[(h,d)] for h,d in rutas])
    prob+=cost
    for h in hubs: prob+=lpSum(x[(h,d)] for d in destinos)<=oferta[h]
    for d in destinos: prob+=lpSum(x[(h,d)] for h in hubs)>=demanda[d]
    for h,d in rutas: prob+=x[(h,d)]<=max(oferta[h],demanda[d])*u[(h,d)]
    prob+=cost<=PRESUPUESTO_MAX
    if mod5==0 and 'Monterrey' in oferta: prob+=lpSum(x[('Monterrey',d)] for d in destinos)<=0.7*oferta['Monterrey']
    if mod5==1 and 'Queretaro' in oferta: prob+=lpSum(x[('Queretaro',d)] for d in destinos)>=1
    if mod5==3 and 'CDMX_Norte' in oferta and 'Cancun' in demanda: prob+=x[('CDMX_Norte','Cancun')]>=0.3*demanda['Cancun']
    if mod5==4 and 'Tijuana' in oferta: prob+=lpSum(u[('Tijuana',d)] for d in destinos)<=3
    prob.solve(PULP_CBC_CMD(msg=0))
    asign={(h,d):int(v.varValue) for (h,d),v in x.items() if v.varValue>0.5}
    return {'status':LpStatus[prob.status],'cost':value(prob.objective),
            'x':asign,
            'util':{h:sum(asign.get((h,d),0) for d in destinos)/oferta[h] for h in hubs}}
print("✅ Optimizador listo.")

# ============================================================================
# 5. VISUALIZACIÓN DE LA RED HUB → CIUDAD
# ============================================================================
def graficar(res):
    G=nx.DiGraph();pos={}
    hubs=list(res['util']);dests=list({d for _,d in res['x']})
    for i,h in enumerate(hubs):pos[h]=(0,1-(i+1)/(len(hubs)+1));G.add_node(h,color='blue')
    for j,d in enumerate(dests):pos[d]=(1,1-(j+1)/(len(dests)+1));G.add_node(d,color='orange')
    for (h,d),f in res['x'].items():G.add_edge(h,d,weight=f)
    plt.figure(figsize=(14,8))
    nx.draw(G,pos,with_labels=True,
            node_color=['#1565c0' if G.nodes[n]['color']=='blue' else '#ff9900' for n in G],
            node_size=2800,arrows=True,edge_color='#424242',
            width=[2+5*f/max(res['x'].values()) for _,_,f in G.edges.data('weight')])
    nx.draw_networkx_edge_labels(G,pos,edge_labels={(u,v):f for (u,v),f in res['x'].items()})
    plt.title(f"Amazon México · El Buen Fin 2025 | Costo ${res['cost']:,.0f} MXN",fontsize=15,fontweight='bold')
    plt.axis('off');plt.show()
print("✅ Visualizador listo.")

# ============================================================================
# 6. REPORTE EJECUTIVO Y FODA
# ============================================================================
def reporte(res):
    print("📊 RESULTADOS AMAZON MÉXICO – EL BUEN FIN 2025")
    print("Estado:",res['status'])
    print(f"Costo Total: ${res['cost']:,.0f} MXN")
    print("\n🏭 Utilización por HUB:")
    for h,u in res['util'].items():print(f" • {h}: {u:.0%}")
    print("\n🚚 Flujos principales:")
    for (h,d),v in sorted(res['x'].items(),key=lambda x: x[1],reverse=True)[:6]:
        print(f" • {h} → {d}: {v:,}")
    print("\n🧩 FODA EJECUTIVO 2025")
    print("  F: Red flexible y ajuste automático por matrícula")
    print("  O: Uso de análisis predictivo en picos de demanda (Buen Fin)")
    print("  D: Dependencia de costos terrestres y capacidad limitada en Tijuana")
    print("  A: Modelos multi-nivel automatizados con IA logística")
print("✅ Reporte listo.")

# ============================================================================
# 7. EJECUCIÓN PRINCIPAL
# ============================================================================
XX=47  # ← Cambia por tus últimos dos dígitos de matrícula
oferta,demanda,costos,mod5=generar_escenario(XX,OFERTA_BASE,DEMANDA_BASE,COSTO_BASE_MILES)
res=optimizar(oferta,demanda,costos,mod5)
reporte(res)
graficar(res)
print("\n✅ Análisis completado – Archivo v3.4 Buen Fin 2025")
