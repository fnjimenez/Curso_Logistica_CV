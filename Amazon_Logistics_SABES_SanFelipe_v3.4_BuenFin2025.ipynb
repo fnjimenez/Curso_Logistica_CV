def optimizar(oferta,demanda,costos,mod5):
    hubs,destinos=list(oferta),list(demanda)
    prob=LpProblem("Amazon_BuenFin2025",LpMinimize)
    rutas=[(h,d) for h in hubs for d in destinos]
    x=LpVariable.dicts("x",rutas,0,cat="Integer")
    u=LpVariable.dicts("u",rutas,cat="Binary")
    cost=lpSum([costos[h][d]*x[(h,d)]+COSTO_FIJO_TRAILER*u[(h,d)] for h,d in rutas])
    prob+=cost
    for h in hubs: prob+=lpSum(x[(h,d)] for d in destinos)<=oferta[h]
    for d in destinos: prob+=lpSum(x[(h,d)] for h in hubs)>=demanda[d]
    for h,d in rutas: prob+=x[(h,d)]<=max(oferta[h],demanda[d])*u[(h,d)]
    prob+=cost<=PRESUPUESTO_MAX
    if mod5==0 and 'Monterrey' in oferta: prob+=lpSum(x[('Monterrey',d)] for d in destinos)<=0.7*oferta['Monterrey']
    if mod5==1 and 'Queretaro' in oferta: prob+=lpSum(x[('Queretaro',d)] for d in destinos)>=1
    if mod5==3 and 'CDMX_Norte' in oferta and 'Cancun' in demanda: prob+=x[('CDMX_Norte','Cancun')]>=0.3*demanda['Cancun']
    if mod5==4 and 'Tijuana' in oferta: prob+=lpSum(u[('Tijuana',d)] for d in destinos)<=3
    prob.solve(PULP_CBC_CMD(msg=0))
    asign={(h,d):int(v.varValue) for (h,d),v in x.items() if v.varValue>0.5}
    return {'status':LpStatus[prob.status],'cost':value(prob.objective),
            'x':asign,'util':{h:sum(asign.get((h,d),0) for d in destinos)/oferta[h] for h in hubs}}
print("✅ Optimizador listo.")
