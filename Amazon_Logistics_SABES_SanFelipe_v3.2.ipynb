{
 "nbformat": 4,
 "nbformat_minor": 5,
 "metadata": {
  "colab": {
   "name": "Amazon_Logistics_SABES_SanFelipe_v3.2",
   "provenance": [],
   "collapsed_sections": []
  },
  "kernelspec": {
   "display_name": "Python 3",
   "language": "python",
   "name": "python3"
  },
  "language_info": {
   "name": "python"
  }
 },
 "cells": [
  {
   "cell_type": "markdown",
   "metadata": {},
   "source": [
    "# 📦 Amazon Logistics Simulation – SABES San Felipe (v3.2 · 2025)\n",
    "\n",
    "**Universidad del SABES – Campus San Felipe**  \n",
    "_Licenciatura en Ingeniería Logística · Logística y Cadena de Valor_\n",
    "\n",
    "---"
   ]
  },
  {
   "cell_type": "code",
   "metadata": {
    "id": "intro_instrucciones"
   },
   "execution_count": null,
   "outputs": [],
   "source": [
    "# ============================================================\n",
    "# 💡 INSTRUCCIONES DE USO – SIMULACIÓN LOGÍSTICA SABES\n",
    "# ============================================================\n",
    "from IPython.display import HTML, display\n",
    "display(HTML('''\n",
    "<div style=\"background-color:#f5f5f5;border-left:6px solid #146EB4;padding:14px;border-radius:6px;font-family:'Amazon Ember','Arial Rounded MT',sans-serif;font-size:15px;color:#333;\">\n",
    "<p><b>💡 Instrucciones:</b></p>\n",
    "<ul style=\"margin-top:6px;\">\n",
    "<li>Ejecute las celdas <b>en orden de arriba hacia abajo</b>.</li>\n",
    "<li>Los diagramas y resultados se generarán automáticamente en la carpeta <code>/results/</code>.</li>\n",
    "<li>Al finalizar, se creará un archivo <b>PDF bilingüe institucional</b> con el encabezado SABES × Amazon.</li>\n",
    "<li>Puede abrir este notebook directamente en Google Colab mediante el botón <b>“Abrir en Colab”</b> del repositorio.</li>\n",
    "</ul>\n",
    "<p style=\"margin-top:8px; font-size:13px; color:#555;\">🔸 Este proyecto forma parte de la asignatura <b>Logística y Cadena de Valor</b> – Universidad del SABES, Campus San Felipe (2025).</p>\n",
    "</div>\n",
    "'''))"
   ]
  },
  {
   "cell_type": "markdown",
   "metadata": {},
   "source": [
    "## 🏫 Banner institucional bilingüe\n",
    "\n",
    "Sección informativa de identidad SABES × Amazon (logo, texto bilingüe, QR institucional)."
   ]
  },
  {
   "cell_type": "code",
   "metadata": {
    "id": "banner"
   },
   "execution_count": null,
   "outputs": [],
   "source": [
    "from IPython.display import HTML, display\n",
    "display(HTML('''\n",
    "<div style=\"border-radius:8px;padding:18px;background:linear-gradient(90deg,#232f3e,#131921);color:white;font-family:'Amazon Ember',sans-serif;\">\n",
    "<h2 style=\"margin:0;font-weight:700;\">Amazon Logistics × Universidad del SABES</h2>\n",
    "<p style=\"margin:4px 0 8px 0;\">Campus San Felipe · Licenciatura en Ingeniería Logística · Simulación Académica 2025</p>\n",
    "<p style=\"font-size:14px;color:#ddd;\">This notebook forms part of the academic project <b>Amazon Logistics Simulation 2025</b>. Educational Use Only.</p>\n",
    "</div>\n",
    "'''))"
   ]
  },
  {
   "cell_type": "markdown",
   "metadata": {},
   "source": [
    "## ⚙️ Bloque de simulación logística (base)\n",
    "Aquí irían las funciones y cálculos principales de las rutas de transporte, nodos, etc."
   ]
  },
  {
   "cell_type": "code",
   "metadata": {
    "id": "simulacion"
   },
   "execution_count": null,
   "outputs": [],
   "source": [
    "# Ejemplo mínimo de simulación de red logística (puedes sustituirlo por tu script real)\n",
    "import networkx as nx, matplotlib.pyplot as plt, os\n",
    "os.makedirs('results', exist_ok=True)\n",
    "G = nx.DiGraph()\n",
    "G.add_weighted_edges_from([\n",
    " ('A','B',4),('A','C',2),('B','C',5),('B','D',10),('C','E',3),('E','D',4)\n",
    "])\n",
    "plt.figure(figsize=(6,4))\n",
    "pos = nx.spring_layout(G, seed=42)\n",
    "nx.draw(G,pos,with_labels=True,node_color='#146EB4',font_color='white',node_size=1200,arrowsize=20)\n",
    "labels = nx.get_edge_attributes(G,'weight')\n",
    "nx.draw_networkx_edge_labels(G,pos,edge_labels=labels)\n",
    "plt.title('Amazon Logistics – Shortest Path Example (SABES)')\n",
    "plt.savefig('results/sample_network.png',dpi=300,bbox_inches='tight')\n",
    "plt.show()"
   ]
  },
  {
   "cell_type": "code",
   "metadata": {
    "id": "version"
   },
   "execution_count": null,
   "outputs": [],
   "source": [
    "# ============================================================\n",
    "# 🕓 INFORMACIÓN DE VERSIÓN Y FECHA DE GENERACIÓN\n",
    "# ============================================================\n",
    "from datetime import datetime\n",
    "version = '3.2'\n",
    "fecha_generacion = datetime.now().strftime('%d de %B de %Y')\n",
    "print(f'📘 Amazon Logistics Simulation – SABES San Felipe')\n",
    "print(f'🧩 Versión {version} · Generado el {fecha_generacion}')\n",
    "print('Universidad del SABES · Campus San Felipe · 2025')\n",
    "print('Uso educativo exclusivo – Educational Use Only')"
   ]
  },
  {
   "cell_type": "code",
   "metadata": {
    "id": "firma",
    "hidden": true
   },
   "execution_count": null,
   "outputs": [],
   "source": [
    "# ============================================================\n",
    "# 🔒 METADATOS DE AUTORÍA INSTITUCIONAL (OCULTO)\n",
    "# ============================================================\n",
    "_author_signature = {\n",
    "    'autor': 'Mtro. Noé Jiménez',\n",
    "    'institucion': 'Universidad del SABES – Campus San Felipe',\n",
    "    'programa': 'Licenciatura en Ingeniería Logística',\n",
    "    'curso': 'Logística y Cadena de Valor',\n",
    "    'proyecto': 'Amazon Logistics Academic Simulation 2025',\n",
    "    'version': 'v3.2',\n",
    "    'licencia': 'Uso educativo exclusivo · Educational Use Only',\n",
    "    'fecha_creacion': '2025-10-26',\n",
    "    'hash_verificacion': 'SABES-AMZ-25-' + str(abs(hash('SABES2025_AMAZON_SIMULATION')))\n",
    "}\n",
    "# Para verificar autoría ejecute:\n",
    "# print(_author_signature)"
   ]
  }
 ]
}
