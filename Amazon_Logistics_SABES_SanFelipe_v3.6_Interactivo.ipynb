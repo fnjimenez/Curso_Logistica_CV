# ============================================================================
# UNIVERSIDAD DEL SABES – INGENIERÍA LOGÍSTICA Y CADENA DE VALOR
# Campus San Felipe · Octubre 2025
# ============================================================================
# PROYECTO: Amazon Logistics – El Buen Fin 2025 (Interfaz Interactiva)
# Versión v3.6_Interactivo_Corregido
# ============================================================================

# ============================================================================
# 0. INSTALACIÓN DE LIBRERÍAS
# ============================================================================
!pip install pulp networkx matplotlib ipywidgets pandas openpyxl --quiet
import math
import pandas as pd
import networkx as nx
import matplotlib.pyplot as plt
from pulp import *
import ipywidgets as widgets
from ipywidgets import interact
import os

print("✅ Librerías instaladas y cargadas.")

# Configurar widgets para Colab
from google.colab import output
output.enable_custom_widget_manager()

# ============================================================================
# 1. CARGA DE LISTA DE ALUMNOS (CON MANEJO DE ERRORES)
# ============================================================================
RUTA_EXCEL = "LISTA PARTICIPANTES CURSO LOGISTICA Y CADENA DE VALOR.xlsx"

# Verificar si el archivo existe
if not os.path.exists(RUTA_EXCEL):
    print(f"⚠️  Archivo {RUTA_EXCEL} no encontrado.")
    print("📁 Usando datos de ejemplo...")
    
    # Crear datos de ejemplo
    alumnos = pd.DataFrame({
        "matricula": [241132, 241133, 241134, 241135, 241136],
        "nombre": ["Juan Pérez", "María García", "Carlos López", "Ana Martínez", "Pedro Rodríguez"],
        "XX": [42, 47, 25, 33, 18]
    })
else:
    try:
        df_raw = pd.read_excel(RUTA_EXCEL)
        print(f"✅ Archivo {RUTA_EXCEL} cargado correctamente.")
        
        # Determinar columnas automáticamente
        columnas_disponibles = df_raw.columns.tolist()
        print(f"📊 Columnas disponibles: {columnas_disponibles}")
        
        # Buscar columnas por nombre aproximado
        col_matricula = next((col for col in columnas_disponibles if 'matric' in col.lower()), columnas_disponibles[0])
        col_nombre = next((col for col in columnas_disponibles if 'nom' in col.lower() or 'alum' in col.lower()), columnas_disponibles[1])
        
        alumnos = pd.DataFrame({
            "matricula": df_raw[col_matricula],
            "nombre": df_raw[col_nombre],
        })
        
        # Calcular XX si no existe
        if 'XX' in df_raw.columns:
            alumnos["XX"] = df_raw['XX'].astype(int)
        else:
            alumnos["XX"] = alumnos["matricula"].astype(str).str[-2:].fillna('0').astype(int)
            
    except Exception as e:
        print(f"❌ Error cargando archivo: {e}")
        print("📁 Usando datos de ejemplo...")
        alumnos = pd.DataFrame({
            "matricula": [241132, 241133, 241134],
            "nombre": ["Juan Pérez", "María García", "Carlos López"],
            "XX": [42, 47, 25]
        })

# Crear display name
alumnos["display"] = alumnos["matricula"].astype(str) + " - " + alumnos["nombre"].astype(str)

print("✅ Lista de alumnos cargada:")
print(alumnos[['matricula', 'nombre', 'XX']].head().to_string())

# ============================================================================
# 2. DATOS BASE DEL ESCENARIO AMAZON MÉXICO
# ============================================================================
OFERTA_BASE = {
    'CDMX_Norte': 35000,
    'Monterrey':  22000,
    'Guadalajara':20000,
    'Queretaro':  18000,
    'Puebla':     15000,
    'Tijuana':    12000,
}

DEMANDA_BASE = {
    'Merida':   12000,
    'Cancun':   15000,
    'Toluca':   18000,
    'Leon':     14000,
    'SLP':      11000,
    'Veracruz': 13000,
}

COSTO_BASE_MILES = {
    'CDMX_Norte': {'Merida':142, 'Cancun':168, 'Toluca':8, 'Leon':45, 'SLP':52, 'Veracruz':48},
    'Monterrey': {'Merida':228, 'Cancun':245, 'Toluca':88, 'Leon':78, 'SLP':38, 'Veracruz':115},
    'Guadalajara': {'Merida':198, 'Cancun':215, 'Toluca':62, 'Leon':28, 'SLP':58, 'Veracruz':88},
    'Queretaro': {'Merida':158, 'Cancun':178, 'Toluca':18, 'Leon':22, 'SLP':35, 'Veracruz':52},
    'Puebla': {'Merida':128, 'Cancun':145, 'Toluca':22, 'Leon':52, 'SLP':62, 'Veracruz':28},
    'Tijuana': {'Merida':485, 'Cancun':498, 'Toluca':305, 'Leon':262, 'SLP':268, 'Veracruz':358},
}

COSTO_FIJO_TRAILER = 12500
PRESUPUESTO_MAX_DEFAULT = 2_850_000

print("✅ Datos base logísticos cargados.")

# ============================================================================
# 3. GENERACIÓN DE ESCENARIO PERSONALIZADO (CORREGIDO)
# ============================================================================
def generar_escenario_alumno(XX, demanda_extra_pct, capacidad_reduccion_pct, costo_ajuste_pct, presupuesto_max, escenario_nombre):
    """Genera escenario personalizado para el alumno"""
    
    mod10 = XX % 10
    mod7 = XX % 7
    mod15 = XX % 15
    mod5 = XX % 5

    # Factores base por XX
    factor_demanda_xx = 1 + (mod10 / 10)
    factor_oferta_xx = 1 + (mod7 / 10)
    factor_costos_xx = 0.85 + (mod15 / 100)

    # 1) Demanda personalizada
    demanda_mod = {}
    for dest, base in DEMANDA_BASE.items():
        demanda_mod[dest] = math.ceil(base * factor_demanda_xx * (1 + demanda_extra_pct))

    # 2) Oferta personalizada
    oferta_mod = {}
    for hub, base in OFERTA_BASE.items():
        oferta_mod[hub] = math.floor(base * factor_oferta_xx * (1 - capacidad_reduccion_pct))
        oferta_mod[hub] = max(0, oferta_mod[hub])  # No negativo

    # 3) Costos personalizados
    costos_mod = {}
    for hub, destinos in COSTO_BASE_MILES.items():
        costos_mod[hub] = {}
        for dest, costo_miles in destinos.items():
            costo_mxn = costo_miles * 1000.0
            costo_final = costo_mxn * factor_costos_xx * (1 + costo_ajuste_pct)
            costos_mod[hub][dest] = costo_final

    # 4) Ajustes por escenario
    if escenario_nombre.lower() == "optimista":
        for h in costos_mod:
            for d in costos_mod[h]:
                costos_mod[h][d] *= 0.90

    elif escenario_nombre.lower() == "pesimista":
        for h in costos_mod:
            if "Cancun" in costos_mod[h]:
                costos_mod[h]["Cancun"] *= 1.25
            if "Veracruz" in costos_mod[h]:
                costos_mod[h]["Veracruz"] *= 1.25
        if "Monterrey" in oferta_mod:
            oferta_mod["Monterrey"] = math.floor(oferta_mod["Monterrey"] * 0.8)
        if "Puebla" in oferta_mod:
            oferta_mod["Puebla"] = math.floor(oferta_mod["Puebla"] * 0.8)

    elif escenario_nombre.lower() == "estrategico":
        BAJIO_CAP_ADICIONAL = 18000
        oferta_mod["BajioHub"] = BAJIO_CAP_ADICIONAL
        costos_mod["BajioHub"] = {
            "Leon": 22000 * (1 + costo_ajuste_pct),
            "SLP": 35000 * (1 + costo_ajuste_pct),
            "Toluca": 25000 * (1 + costo_ajuste_pct),
        }

    return oferta_mod, demanda_mod, costos_mod, mod5, presupuesto_max

# ============================================================================
# 4. SOLVER DE OPTIMIZACIÓN (CORREGIDO)
# ============================================================================
def optimizar(oferta, demanda, costos, mod5, presupuesto_max, costo_fijo_trailer=COSTO_FIJO_TRAILER):
    hubs = list(oferta.keys())
    destinos = list(demanda.keys())

    prob = LpProblem("Amazon_BuenFin2025_Interactivo", LpMinimize)

    # Crear rutas válidas
    rutas = []
    for h in hubs:
        for d in destinos:
            if h in costos and d in costos[h]:
                rutas.append((h, d))

    # Variables
    x = LpVariable.dicts("x", rutas, lowBound=0, cat="Integer")
    u = LpVariable.dicts("u", rutas, lowBound=0, upBound=1, cat="Binary")

    # Función objetivo
    total_cost = lpSum([
        costos[h][d] * x[(h, d)] + costo_fijo_trailer * u[(h, d)]
        for (h, d) in rutas
    ])
    prob += total_cost

    # Restricciones
    for h in hubs:
        prob += lpSum([x.get((h, d), 0) for d in destinos if (h, d) in x]) <= oferta[h], f"Capacidad_{h}"

    for d in destinos:
        prob += lpSum([x.get((h, d), 0) for h in hubs if (h, d) in x]) >= demanda[d], f"Demanda_{d}"

    for (h, d) in rutas:
        M = max(oferta[h], demanda[d])
        prob += x[(h, d)] <= M * u[(h, d)], f"ActivaRuta_{h}_{d}"

    prob += total_cost <= presupuesto_max, "PresupuestoMax"

    # Restricciones especiales
    if mod5 == 0 and "Monterrey" in oferta:
        prob += lpSum([x.get(("Monterrey", d), 0) for d in destinos if ("Monterrey", d) in x]) <= oferta["Monterrey"] * 0.7

    if mod5 == 1 and "Queretaro" in oferta:
        prob += lpSum([x.get(("Queretaro", d), 0) for d in destinos if ("Queretaro", d) in x]) >= 1

    if mod5 == 3 and "CDMX_Norte" in oferta and "Cancun" in demanda:
        if ("CDMX_Norte", "Cancun") in x:
            prob += x[("CDMX_Norte", "Cancun")] >= 0.30 * demanda["Cancun"]

    if mod5 == 4 and "Tijuana" in oferta:
        rutas_tijuana = [("Tijuana", d) for d in destinos if ("Tijuana", d) in u]
        if rutas_tijuana:
            prob += lpSum([u[r] for r in rutas_tijuana]) <= 3

    # Resolver
    prob.solve(PULP_CBC_CMD(msg=0))

    if LpStatus[prob.status] != "Optimal":
        raise ValueError(f"❌ No se encontró solución óptima. Status: {LpStatus[prob.status]}")

    # Extraer resultados
    asignaciones = {}
    for (h, d) in rutas:
        val = x[(h, d)].varValue
        if val and val > 0.5:
            asignaciones[(h, d)] = int(val)

    uso_hub = {h: sum(asignaciones.get((h, d), 0) for d in destinos) for h in hubs}
    utilizacion_hub = {h: (uso_hub[h] / oferta[h] if oferta[h] > 0 else 0) for h in hubs}

    return {
        "status": LpStatus[prob.status],
        "costo_total": value(total_cost),
        "asignaciones": asignaciones,
        "utilizacion": utilizacion_hub,
        "oferta": oferta,
        "demanda": demanda,
        "presupuesto": presupuesto_max,
    }

# ============================================================================
# 5. VISUALIZACIÓN CORREGIDA
# ============================================================================
def graficar_red(resultado):
    asign = resultado["asignaciones"]
    oferta = resultado["oferta"]
    demanda = resultado["demanda"]

    G = nx.DiGraph()
    pos = {}

    # Nodos HUBs
    hubs = list(oferta.keys())
    for i, h in enumerate(hubs):
        pos[h] = (0, 1 - (i+1)/(len(hubs)+1))
        G.add_node(h, tipo="hub")

    # Nodos destinos
    destinos = list(demanda.keys())
    for j, d in enumerate(destinos):
        pos[d] = (1, 1 - (j+1)/(len(destinos)+1))
        G.add_node(d, tipo="dest")

    # Arcos
    max_flujo = max(asign.values()) if asign else 1
    for (h, d), f in asign.items():
        G.add_edge(h, d, weight=f)
        G[h][d]['ancho'] = (2 + 5*f/max_flujo)

    # Dibujar
    plt.figure(figsize=(14, 8))
    
    hubs_nodes = [n for n in G.nodes() if G.nodes[n]["tipo"]=="hub"]
    dest_nodes = [n for n in G.nodes() if G.nodes[n]["tipo"]=="dest"]

    nx.draw_networkx_nodes(G, pos, nodelist=hubs_nodes, node_color="#1565c0", 
                          node_size=2800, node_shape="s", edgecolors="black")
    nx.draw_networkx_nodes(G, pos, nodelist=dest_nodes, node_color="#ff9900", 
                          node_size=2500, node_shape="o", edgecolors="black")

    # Bordes con ancho correcto
    edges = list(G.edges())
    widths = [G[u][v]['ancho'] for u,v in edges] if edges else [2]
    nx.draw_networkx_edges(G, pos, edge_color="#424242", width=widths, 
                          arrows=True, arrowsize=20)

    # Etiquetas
    labels = {}
    util = resultado["utilizacion"]
    for h in hubs_nodes:
        labels[h] = f"{h}\n{util.get(h,0)*100:.0f}%"
    for d in dest_nodes:
        labels[d] = f"{d}\n{demanda[d]:,}"

    nx.draw_networkx_labels(G, pos, labels, font_weight="bold", font_size=9)
    
    # Etiquetas de arcos
    edge_labels = {(h,d): f"{f:,}" for (h,d), f in asign.items()}
    nx.draw_networkx_edge_labels(G, pos, edge_labels, font_size=8)

    plt.title(f"Amazon México - El Buen Fin 2025\nCosto: ${resultado['costo_total']:,.0f} MXN", 
              fontsize=14, fontweight="bold")
    plt.axis("off")
    plt.tight_layout()
    plt.show()

# ============================================================================
# 6. INTERFAZ INTERACTIVA (CORREGIDA)
# ============================================================================
print("🎯 Configurando interfaz interactiva...")

# Widgets
dropdown_alumno = widgets.Dropdown(
    options=list(alumnos["display"]),
    description="Alumno:",
    layout=widgets.Layout(width='400px')
)

slider_demanda = widgets.FloatSlider(
    value=0.20, min=0.0, max=0.50, step=0.05,
    description="Demanda extra:",
    readout_format='.0%'
)

slider_capacidad = widgets.FloatSlider(
    value=0.10, min=0.0, max=0.50, step=0.05,
    description="Reducción capacidad:",
    readout_format='.0%'
)

slider_costos = widgets.FloatSlider(
    value=0.15, min=-0.30, max=0.50, step=0.05,
    description="Ajuste costos:",
    readout_format='.0%'
)

slider_presupuesto = widgets.IntSlider(
    value=PRESUPUESTO_MAX_DEFAULT,
    min=1_500_000,
    max=4_000_000,
    step=50_000,
    description="Presupuesto:"
)

dropdown_escenario = widgets.Dropdown(
    options=["Optimista", "Pesimista", "Estrategico"],
    value="Optimista",
    description="Escenario:"
)

boton_run = widgets.Button(description="Resolver Escenario", button_style='success')
output_area = widgets.Output()

def ejecutar_callback(_):
    with output_area:
        output_area.clear_output()
        
        try:
            # Obtener datos del alumno
            row = alumnos[alumnos["display"] == dropdown_alumno.value].iloc[0]
            alumno_display = row["display"]
            XX = int(row["XX"])

            # Generar escenario
            oferta_mod, demanda_mod, costos_mod, mod5, presupuesto_aplicado = generar_escenario_alumno(
                XX,
                slider_demanda.value,
                slider_capacidad.value,
                slider_costos.value,
                slider_presupuesto.value,
                dropdown_escenario.value
            )

            # Optimizar
            resultado = optimizar(oferta_mod, demanda_mod, costos_mod, mod5, presupuesto_aplicado)

            # Mostrar resultados
            print("="*60)
            print(f"📊 RESULTADOS - {alumno_display}")
            print("="*60)
            print(f"🎯 Escenario: {dropdown_escenario.value}")
            print(f"💰 Costo total: ${resultado['costo_total']:,.0f} MXN")
            print(f"📦 Unidades transportadas: {sum(resultado['asignaciones'].values()):,}")
            print(f"🏭 Utilización de HUBs:")
            for hub, util in resultado['utilizacion'].items():
                print(f"   • {hub}: {util:.1%}")
            
            print("\n🚚 Flujos principales:")
            flujos_ordenados = sorted(resultado['asignaciones'].items(), key=lambda x: x[1], reverse=True)[:6]
            for (origen, destino), unidades in flujos_ordenados:
                print(f"   • {origen} → {destino}: {unidades:,} unidades")

            # Gráfico
            graficar_red(resultado)
            
        except Exception as e:
            print(f"❌ Error: {str(e)}")
            print("💡 Intenta ajustar los parámetros o cambiar de alumno")

boton_run.on_click(ejecutar_callback)

# Mostrar interfaz
ui = widgets.VBox([
    widgets.HTML("<h2>🚚 Amazon Logistics - El Buen Fin 2025</h2>"),
    dropdown_alumno,
    widgets.HBox([dropdown_escenario, slider_presupuesto]),
    slider_demanda,
    slider_capacidad,
    slider_costos,
    boton_run,
    output_area
])

display(ui)
print("✅ Interfaz lista. Selecciona alumno y haz clic en 'Resolver Escenario'")
