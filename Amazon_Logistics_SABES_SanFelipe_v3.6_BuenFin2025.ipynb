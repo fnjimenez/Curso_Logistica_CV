# ============================================================================
# 🔄 REINICIO Y CONFIGURACIÓN MEJORADA
# ============================================================================
print("🔄 Reiniciando configuración...")

# Reinstalar librerías (por si acaso)
!pip install pulp networkx matplotlib ipywidgets --quiet --force-reinstall

# Importar nuevamente
import math
import pandas as pd
import networkx as nx
import matplotlib.pyplot as plt
from pulp import *
import ipywidgets as widgets
from google.colab import output
output.enable_custom_widget_manager()

print("✅ Entorno reiniciado correctamente")
